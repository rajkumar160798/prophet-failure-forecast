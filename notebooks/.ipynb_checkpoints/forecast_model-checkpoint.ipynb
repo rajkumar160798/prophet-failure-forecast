{
 "cells": [
  {
   "cell_type": "code",
   "execution_count": null,
   "metadata": {
    "vscode": {
     "languageId": "plaintext"
    }
   },
   "outputs": [],
   "source": [
    "# 📦 Imports\n",
    "import pandas as pd\n",
    "from prophet import Prophet\n",
    "import matplotlib.pyplot as plt\n",
    "\n",
    "# 📂 Load data\n",
    "df = pd.read_csv(\"../data/sensor_data.csv\", parse_dates=[\"timestamp\"])\n",
    "df_prophet = df[[\"timestamp\", \"temperature\"]].rename(columns={\"timestamp\": \"ds\", \"temperature\": \"y\"})\n",
    "\n",
    "# 🔮 Build and fit Prophet model\n",
    "model = Prophet()\n",
    "model.fit(df_prophet)\n",
    "\n",
    "# 📅 Forecast next 48 hours\n",
    "future = model.make_future_dataframe(periods=48, freq=\"H\")\n",
    "forecast = model.predict(future)\n",
    "\n",
    "# 📊 Plot 1 – Forecast\n",
    "model.plot(forecast)\n",
    "plt.title(\"Temperature Forecast with Prophet\")\n",
    "plt.xlabel(\"Date\")\n",
    "plt.ylabel(\"Temperature\")\n",
    "plt.show()\n",
    "\n",
    "# ⚠️ Add Failure Risk Column\n",
    "forecast[\"failure_risk\"] = forecast[\"yhat\"] > 78\n",
    "\n",
    "# 📊 Plot 2 – Highlight Forecasted Failures\n",
    "plt.figure(figsize=(12, 6))\n",
    "plt.plot(forecast[\"ds\"], forecast[\"yhat\"], label=\"Forecasted Temp\")\n",
    "plt.fill_between(forecast[\"ds\"], forecast[\"yhat_upper\"], forecast[\"yhat_lower\"], alpha=0.2)\n",
    "plt.axhline(78, color=\"red\", linestyle=\"--\", label=\"Failure Threshold (78°F)\")\n",
    "plt.scatter(\n",
    "    forecast[forecast[\"failure_risk\"]][\"ds\"],\n",
    "    forecast[forecast[\"failure_risk\"]][\"yhat\"],\n",
    "    color=\"red\", label=\"Forecasted Failures\", zorder=5\n",
    ")\n",
    "plt.title(\"Forecasted Temperature Failures\")\n",
    "plt.xlabel(\"Timestamp\")\n",
    "plt.ylabel(\"Temperature\")\n",
    "plt.legend()\n",
    "plt.tight_layout()\n",
    "plt.show()\n"
   ]
  }
 ],
 "metadata": {
  "language_info": {
   "name": "python"
  }
 },
 "nbformat": 4,
 "nbformat_minor": 2
}
